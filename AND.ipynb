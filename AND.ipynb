{
 "cells": [
  {
   "cell_type": "code",
   "execution_count": 1,
   "metadata": {},
   "outputs": [],
   "source": [
    "import matplotlib.pyplot as plt\n",
    "import matplotlib.image as mpimg\n",
    "import numpy as np"
   ]
  },
  {
   "cell_type": "code",
   "execution_count": 2,
   "metadata": {},
   "outputs": [],
   "source": [
    "img1 = np.array([\n",
    "       [1, 1, 1, 1, 1, 1, 1],\n",
    "       [1, 1, 0, 0, 1, 1, 1],\n",
    "       [1, 0, 0, 0, 0, 1, 1],\n",
    "       [1, 0, 0, 0, 0, 1, 1],\n",
    "       [1, 1, 0, 0, 1, 1, 1],\n",
    "       [1, 1, 1, 1, 1, 1, 1],\n",
    "       [1, 1, 1, 1, 1, 1, 1]\n",
    "    ])"
   ]
  },
  {
   "cell_type": "code",
   "execution_count": 3,
   "metadata": {},
   "outputs": [
    {
     "data": {
      "image/png": "[encoded data removed]",
      "text/plain": [
       "<Figure size 432x288 with 1 Axes>"
      ]
     },
     "metadata": {
      "needs_background": "light"
     },
     "output_type": "display_data"
    }
   ],
   "source": [
    "plt.imshow(img1, cmap='gray', extent=[0,4,0,4])\n",
    "plt.xticks(np.arange(0, 4, 1.0))\n",
    "plt.yticks(np.arange(0, 4, 1.0))\n",
    "plt.show()"
   ]
  },
  {
   "cell_type": "code",
   "execution_count": 4,
   "metadata": {},
   "outputs": [],
   "source": [
    "img2 = np.array([\n",
    "       [1, 1, 1, 1, 1, 1, 1],\n",
    "       [1, 1, 1, 1, 1, 1, 1],\n",
    "       [1, 1, 1, 1, 1, 1, 1],\n",
    "       [1, 1, 1, 0, 0, 0, 1],\n",
    "       [1, 1, 1, 0, 0, 0, 1],\n",
    "       [1, 1, 1, 0, 0, 0, 1],\n",
    "       [1, 1, 1, 1, 1, 1, 1]\n",
    "    ])"
   ]
  },
  {
   "cell_type": "code",
   "execution_count": 5,
   "metadata": {},
   "outputs": [
    {
     "data": {
      "image/png": "[encoded data removed]",
      "text/plain": [
       "<Figure size 432x288 with 1 Axes>"
      ]
     },
     "metadata": {
      "needs_background": "light"
     },
     "output_type": "display_data"
    }
   ],
   "source": [
    "plt.imshow(img2, cmap='gray', extent=[0,4,0,4])\n",
    "plt.xticks(np.arange(0, 4, 1.0))\n",
    "plt.yticks(np.arange(0, 4, 1.0))\n",
    "plt.show()"
   ]
  },
  {
   "cell_type": "code",
   "execution_count": 6,
   "metadata": {},
   "outputs": [],
   "source": [
    "andresult = np.ones((7,7), dtype=np.int64)"
   ]
  },
  {
   "cell_type": "code",
   "execution_count": 7,
   "metadata": {},
   "outputs": [],
   "source": [
    "for r in range(7):\n",
    "    for c in range(7):\n",
    "        if(img1[r][c]==0):\n",
    "            if(img2[r][c]==0):\n",
    "                andresult[r][c] = 0 #if both regions black, only then AND is black"
   ]
  },
  {
   "cell_type": "code",
   "execution_count": 8,
   "metadata": {},
   "outputs": [
    {
     "data": {
      "image/png": "[encoded data removed]",
      "text/plain": [
       "<Figure size 432x288 with 1 Axes>"
      ]
     },
     "metadata": {
      "needs_background": "light"
     },
     "output_type": "display_data"
    }
   ],
   "source": [
    "plt.imshow(andresult, cmap='gray', extent=[0,4,0,4])\n",
    "plt.xticks(np.arange(0, 4, 1.0))\n",
    "plt.yticks(np.arange(0, 4, 1.0))\n",
    "plt.show()"
   ]
  },
  {
   "cell_type": "code",
   "execution_count": null,
   "metadata": {},
   "outputs": [],
   "source": []
  }
 ],
 "metadata": {
  "kernelspec": {
   "display_name": "Python 3",
   "language": "python",
   "name": "python3"
  },
  "language_info": {
   "codemirror_mode": {
    "name": "ipython",
    "version": 3
   },
   "file_extension": ".py",
   "mimetype": "text/x-python",
   "name": "python",
   "nbconvert_exporter": "python",
   "pygments_lexer": "ipython3",
   "version": "3.7.0"
  }
 },
 "nbformat": 4,
 "nbformat_minor": 2
}
