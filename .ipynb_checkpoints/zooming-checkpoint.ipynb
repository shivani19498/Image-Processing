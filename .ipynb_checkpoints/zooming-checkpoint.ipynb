{
 "cells": [
  {
   "cell_type": "code",
   "execution_count": 1,
   "metadata": {},
   "outputs": [],
   "source": [
    "import cv2\n",
    "import matplotlib.pyplot as plt\n",
    "import numpy as np\n",
    "\n",
    "img=cv2.imread('HistEq.PNG',1)\n",
    "out=np.zeros((img.shape[0]*2,img.shape[1]*2,img.shape[2]))\n",
    "out2=np.zeros((img.shape[0]*2,img.shape[1]*2,img.shape[2]))\n",
    "shp=img.shape\n",
    "for i in range(shp[0]):\n",
    "\tout[2*i,:shp[1]]=np.copy(img[i,:])\n",
    "\n",
    "for j in range(shp[1]):\n",
    "\tout2[:,2*j]=np.copy(out[:,j])\n",
    "\n",
    "out=np.copy(out2)\n",
    "\n",
    "for i in range(img.shape[0]-1):\n",
    "\tfor k in range(img.shape[2]):\n",
    "\t\tout[2*i+1,:,k]=out[2*i,:,k]/2+out[2*i+2,:,k]/2\n",
    "\n",
    "for j in range(img.shape[1]-1):\n",
    "\tfor k in range(img.shape[2]):\n",
    "\t\tout[:,2*j+1,k]=out[:,2*j,k]/2+out[:,2*j+2,k]/2\n",
    "\n",
    "out[-1,:]=out[-2,:]\n",
    "out[:,-1]=out[:,-2]\n",
    "\n",
    "out=np.array(out, dtype = np.uint8)"
   ]
  },
  {
   "cell_type": "code",
   "execution_count": 2,
   "metadata": {},
   "outputs": [
    {
     "ename": "SyntaxError",
     "evalue": "Missing parentheses in call to 'print'. Did you mean print(img)? (<ipython-input-2-14e75ea99dd1>, line 1)",
     "output_type": "error",
     "traceback": [
      "\u001b[1;36m  File \u001b[1;32m\"<ipython-input-2-14e75ea99dd1>\"\u001b[1;36m, line \u001b[1;32m1\u001b[0m\n\u001b[1;33m    print img\u001b[0m\n\u001b[1;37m            ^\u001b[0m\n\u001b[1;31mSyntaxError\u001b[0m\u001b[1;31m:\u001b[0m Missing parentheses in call to 'print'. Did you mean print(img)?\n"
     ]
    }
   ],
   "source": [
    "print img"
   ]
  },
  {
   "cell_type": "code",
   "execution_count": null,
   "metadata": {},
   "outputs": [],
   "source": [
    "print out"
   ]
  },
  {
   "cell_type": "code",
   "execution_count": null,
   "metadata": {},
   "outputs": [],
   "source": [
    "plt.imshow(img, cmap='gray')"
   ]
  },
  {
   "cell_type": "code",
   "execution_count": null,
   "metadata": {},
   "outputs": [],
   "source": []
  }
 ],
 "metadata": {
  "kernelspec": {
   "display_name": "Python 3",
   "language": "python",
   "name": "python3"
  },
  "language_info": {
   "codemirror_mode": {
    "name": "ipython",
    "version": 3
   },
   "file_extension": ".py",
   "mimetype": "text/x-python",
   "name": "python",
   "nbconvert_exporter": "python",
   "pygments_lexer": "ipython3",
   "version": "3.7.0"
  }
 },
 "nbformat": 4,
 "nbformat_minor": 2
}
